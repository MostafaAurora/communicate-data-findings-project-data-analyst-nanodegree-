{
 "cells": [
  {
   "cell_type": "markdown",
   "metadata": {},
   "source": [
    "# Exploring \"Fordgobike\" data\n",
    "## by Mostafa Mohamed Mohamed Imam\n",
    "\n",
    "## Preliminary Wrangling\n",
    "  > the dataset provides info about trips made by ford go bike's users such as duration, birth year, start and stop stations with ids and coordinates for each station for each trip as well as the start time of each trip from year to minutes and seconds"
   ]
  },
  {
   "cell_type": "code",
   "execution_count": 1,
   "metadata": {},
   "outputs": [],
   "source": [
    "# import all packages and set plots to be embedded inline\n",
    "import numpy as np\n",
    "import pandas as pd\n",
    "import matplotlib.pyplot as plt\n",
    "import seaborn as sb\n",
    "\n",
    "%matplotlib inline"
   ]
  },
  {
   "cell_type": "code",
   "execution_count": 2,
   "metadata": {},
   "outputs": [
    {
     "data": {
      "text/html": [
       "<div>\n",
       "<style scoped>\n",
       "    .dataframe tbody tr th:only-of-type {\n",
       "        vertical-align: middle;\n",
       "    }\n",
       "\n",
       "    .dataframe tbody tr th {\n",
       "        vertical-align: top;\n",
       "    }\n",
       "\n",
       "    .dataframe thead th {\n",
       "        text-align: right;\n",
       "    }\n",
       "</style>\n",
       "<table border=\"1\" class=\"dataframe\">\n",
       "  <thead>\n",
       "    <tr style=\"text-align: right;\">\n",
       "      <th></th>\n",
       "      <th>duration_sec</th>\n",
       "      <th>start_time</th>\n",
       "      <th>end_time</th>\n",
       "      <th>start_station_id</th>\n",
       "      <th>start_station_name</th>\n",
       "      <th>start_station_latitude</th>\n",
       "      <th>start_station_longitude</th>\n",
       "      <th>end_station_id</th>\n",
       "      <th>end_station_name</th>\n",
       "      <th>end_station_latitude</th>\n",
       "      <th>end_station_longitude</th>\n",
       "      <th>bike_id</th>\n",
       "      <th>user_type</th>\n",
       "      <th>member_birth_year</th>\n",
       "      <th>member_gender</th>\n",
       "      <th>bike_share_for_all_trip</th>\n",
       "    </tr>\n",
       "  </thead>\n",
       "  <tbody>\n",
       "    <tr>\n",
       "      <th>0</th>\n",
       "      <td>52185</td>\n",
       "      <td>2019-02-28 17:32:10.1450</td>\n",
       "      <td>2019-03-01 08:01:55.9750</td>\n",
       "      <td>21.0</td>\n",
       "      <td>Montgomery St BART Station (Market St at 2nd St)</td>\n",
       "      <td>37.789625</td>\n",
       "      <td>-122.400811</td>\n",
       "      <td>13.0</td>\n",
       "      <td>Commercial St at Montgomery St</td>\n",
       "      <td>37.794231</td>\n",
       "      <td>-122.402923</td>\n",
       "      <td>4902</td>\n",
       "      <td>Customer</td>\n",
       "      <td>1984.0</td>\n",
       "      <td>Male</td>\n",
       "      <td>No</td>\n",
       "    </tr>\n",
       "    <tr>\n",
       "      <th>1</th>\n",
       "      <td>42521</td>\n",
       "      <td>2019-02-28 18:53:21.7890</td>\n",
       "      <td>2019-03-01 06:42:03.0560</td>\n",
       "      <td>23.0</td>\n",
       "      <td>The Embarcadero at Steuart St</td>\n",
       "      <td>37.791464</td>\n",
       "      <td>-122.391034</td>\n",
       "      <td>81.0</td>\n",
       "      <td>Berry St at 4th St</td>\n",
       "      <td>37.775880</td>\n",
       "      <td>-122.393170</td>\n",
       "      <td>2535</td>\n",
       "      <td>Customer</td>\n",
       "      <td>NaN</td>\n",
       "      <td>NaN</td>\n",
       "      <td>No</td>\n",
       "    </tr>\n",
       "    <tr>\n",
       "      <th>2</th>\n",
       "      <td>61854</td>\n",
       "      <td>2019-02-28 12:13:13.2180</td>\n",
       "      <td>2019-03-01 05:24:08.1460</td>\n",
       "      <td>86.0</td>\n",
       "      <td>Market St at Dolores St</td>\n",
       "      <td>37.769305</td>\n",
       "      <td>-122.426826</td>\n",
       "      <td>3.0</td>\n",
       "      <td>Powell St BART Station (Market St at 4th St)</td>\n",
       "      <td>37.786375</td>\n",
       "      <td>-122.404904</td>\n",
       "      <td>5905</td>\n",
       "      <td>Customer</td>\n",
       "      <td>1972.0</td>\n",
       "      <td>Male</td>\n",
       "      <td>No</td>\n",
       "    </tr>\n",
       "    <tr>\n",
       "      <th>3</th>\n",
       "      <td>36490</td>\n",
       "      <td>2019-02-28 17:54:26.0100</td>\n",
       "      <td>2019-03-01 04:02:36.8420</td>\n",
       "      <td>375.0</td>\n",
       "      <td>Grove St at Masonic Ave</td>\n",
       "      <td>37.774836</td>\n",
       "      <td>-122.446546</td>\n",
       "      <td>70.0</td>\n",
       "      <td>Central Ave at Fell St</td>\n",
       "      <td>37.773311</td>\n",
       "      <td>-122.444293</td>\n",
       "      <td>6638</td>\n",
       "      <td>Subscriber</td>\n",
       "      <td>1989.0</td>\n",
       "      <td>Other</td>\n",
       "      <td>No</td>\n",
       "    </tr>\n",
       "    <tr>\n",
       "      <th>4</th>\n",
       "      <td>1585</td>\n",
       "      <td>2019-02-28 23:54:18.5490</td>\n",
       "      <td>2019-03-01 00:20:44.0740</td>\n",
       "      <td>7.0</td>\n",
       "      <td>Frank H Ogawa Plaza</td>\n",
       "      <td>37.804562</td>\n",
       "      <td>-122.271738</td>\n",
       "      <td>222.0</td>\n",
       "      <td>10th Ave at E 15th St</td>\n",
       "      <td>37.792714</td>\n",
       "      <td>-122.248780</td>\n",
       "      <td>4898</td>\n",
       "      <td>Subscriber</td>\n",
       "      <td>1974.0</td>\n",
       "      <td>Male</td>\n",
       "      <td>Yes</td>\n",
       "    </tr>\n",
       "  </tbody>\n",
       "</table>\n",
       "</div>"
      ],
      "text/plain": [
       "   duration_sec                start_time                  end_time  \\\n",
       "0         52185  2019-02-28 17:32:10.1450  2019-03-01 08:01:55.9750   \n",
       "1         42521  2019-02-28 18:53:21.7890  2019-03-01 06:42:03.0560   \n",
       "2         61854  2019-02-28 12:13:13.2180  2019-03-01 05:24:08.1460   \n",
       "3         36490  2019-02-28 17:54:26.0100  2019-03-01 04:02:36.8420   \n",
       "4          1585  2019-02-28 23:54:18.5490  2019-03-01 00:20:44.0740   \n",
       "\n",
       "   start_station_id                                start_station_name  \\\n",
       "0              21.0  Montgomery St BART Station (Market St at 2nd St)   \n",
       "1              23.0                     The Embarcadero at Steuart St   \n",
       "2              86.0                           Market St at Dolores St   \n",
       "3             375.0                           Grove St at Masonic Ave   \n",
       "4               7.0                               Frank H Ogawa Plaza   \n",
       "\n",
       "   start_station_latitude  start_station_longitude  end_station_id  \\\n",
       "0               37.789625              -122.400811            13.0   \n",
       "1               37.791464              -122.391034            81.0   \n",
       "2               37.769305              -122.426826             3.0   \n",
       "3               37.774836              -122.446546            70.0   \n",
       "4               37.804562              -122.271738           222.0   \n",
       "\n",
       "                               end_station_name  end_station_latitude  \\\n",
       "0                Commercial St at Montgomery St             37.794231   \n",
       "1                            Berry St at 4th St             37.775880   \n",
       "2  Powell St BART Station (Market St at 4th St)             37.786375   \n",
       "3                        Central Ave at Fell St             37.773311   \n",
       "4                         10th Ave at E 15th St             37.792714   \n",
       "\n",
       "   end_station_longitude  bike_id   user_type  member_birth_year  \\\n",
       "0            -122.402923     4902    Customer             1984.0   \n",
       "1            -122.393170     2535    Customer                NaN   \n",
       "2            -122.404904     5905    Customer             1972.0   \n",
       "3            -122.444293     6638  Subscriber             1989.0   \n",
       "4            -122.248780     4898  Subscriber             1974.0   \n",
       "\n",
       "  member_gender bike_share_for_all_trip  \n",
       "0          Male                      No  \n",
       "1           NaN                      No  \n",
       "2          Male                      No  \n",
       "3         Other                      No  \n",
       "4          Male                     Yes  "
      ]
     },
     "execution_count": 2,
     "metadata": {},
     "output_type": "execute_result"
    }
   ],
   "source": [
    "df = pd.read_csv('201902-fordgobike-tripdata.csv')\n",
    "df.head()"
   ]
  },
  {
   "cell_type": "code",
   "execution_count": 3,
   "metadata": {},
   "outputs": [
    {
     "name": "stdout",
     "output_type": "stream",
     "text": [
      "<class 'pandas.core.frame.DataFrame'>\n",
      "RangeIndex: 183412 entries, 0 to 183411\n",
      "Data columns (total 16 columns):\n",
      " #   Column                   Non-Null Count   Dtype  \n",
      "---  ------                   --------------   -----  \n",
      " 0   duration_sec             183412 non-null  int64  \n",
      " 1   start_time               183412 non-null  object \n",
      " 2   end_time                 183412 non-null  object \n",
      " 3   start_station_id         183215 non-null  float64\n",
      " 4   start_station_name       183215 non-null  object \n",
      " 5   start_station_latitude   183412 non-null  float64\n",
      " 6   start_station_longitude  183412 non-null  float64\n",
      " 7   end_station_id           183215 non-null  float64\n",
      " 8   end_station_name         183215 non-null  object \n",
      " 9   end_station_latitude     183412 non-null  float64\n",
      " 10  end_station_longitude    183412 non-null  float64\n",
      " 11  bike_id                  183412 non-null  int64  \n",
      " 12  user_type                183412 non-null  object \n",
      " 13  member_birth_year        175147 non-null  float64\n",
      " 14  member_gender            175147 non-null  object \n",
      " 15  bike_share_for_all_trip  183412 non-null  object \n",
      "dtypes: float64(7), int64(2), object(7)\n",
      "memory usage: 22.4+ MB\n"
     ]
    }
   ],
   "source": [
    "df.info();"
   ]
  },
  {
   "cell_type": "code",
   "execution_count": 4,
   "metadata": {},
   "outputs": [],
   "source": [
    "df.dropna(inplace=True)"
   ]
  },
  {
   "cell_type": "code",
   "execution_count": 5,
   "metadata": {},
   "outputs": [
    {
     "name": "stdout",
     "output_type": "stream",
     "text": [
      "<class 'pandas.core.frame.DataFrame'>\n",
      "Int64Index: 174952 entries, 0 to 183411\n",
      "Data columns (total 16 columns):\n",
      " #   Column                   Non-Null Count   Dtype  \n",
      "---  ------                   --------------   -----  \n",
      " 0   duration_sec             174952 non-null  int64  \n",
      " 1   start_time               174952 non-null  object \n",
      " 2   end_time                 174952 non-null  object \n",
      " 3   start_station_id         174952 non-null  float64\n",
      " 4   start_station_name       174952 non-null  object \n",
      " 5   start_station_latitude   174952 non-null  float64\n",
      " 6   start_station_longitude  174952 non-null  float64\n",
      " 7   end_station_id           174952 non-null  float64\n",
      " 8   end_station_name         174952 non-null  object \n",
      " 9   end_station_latitude     174952 non-null  float64\n",
      " 10  end_station_longitude    174952 non-null  float64\n",
      " 11  bike_id                  174952 non-null  int64  \n",
      " 12  user_type                174952 non-null  object \n",
      " 13  member_birth_year        174952 non-null  float64\n",
      " 14  member_gender            174952 non-null  object \n",
      " 15  bike_share_for_all_trip  174952 non-null  object \n",
      "dtypes: float64(7), int64(2), object(7)\n",
      "memory usage: 22.7+ MB\n"
     ]
    }
   ],
   "source": [
    "df.info();"
   ]
  },
  {
   "cell_type": "code",
   "execution_count": 6,
   "metadata": {},
   "outputs": [
    {
     "data": {
      "text/plain": [
       "Subscriber    158386\n",
       "Customer       16566\n",
       "Name: user_type, dtype: int64"
      ]
     },
     "execution_count": 6,
     "metadata": {},
     "output_type": "execute_result"
    }
   ],
   "source": [
    "df.user_type.value_counts()"
   ]
  },
  {
   "cell_type": "markdown",
   "metadata": {},
   "source": [
    "### What is the structure of your dataset?\n",
    "\n",
    "the dataset had 183412 rows before cleaning and 174952 rows after cleaning and 16 columns\n",
    "  - the dataset offers the following info about bike trips:\n",
    "      -  duration_sec : duration of the trip in seconds\n",
    "      -  start_time : starting time of the trip in from year to second\n",
    "      -  end_time : ending time of the trip in from year to second\n",
    "      -  start_station_id : id of the start station\n",
    "      -  start_station_name : name of the start station\n",
    "      -  start_station_latitude  : latitude coordinates of the start station\n",
    "      -  start_station_longitude : longitude coordinates of the start station\n",
    "      -  end_station_id : id of the end station\n",
    "      -  end_station_name : name of the end station\n",
    "      -  end_station_latitude : latitude coordinates of the end station\n",
    "      -  end_station_longitude\t: longitude coordinates of the end station\n",
    "      -  bike_id : id of the bike in the recorded trip\n",
    "      -  user_type : type of user (subscriber or customer)\n",
    "      -  member_birth_year : birth year of the member who made the recorded trip\n",
    "      -  member_gender : gander of the member\n",
    "      -  bike_share_for_all_trip : yes or no status of it the trip was a \"bike share for all trip\"\n",
    "\n",
    "\n",
    "### What is/are the main feature(s) of interest in your dataset?\n",
    "\n",
    "> the main features of interest are age, duration, gender and date to explore the diffrences in trips between age groups and genders\n",
    "\n",
    "### What features in the dataset do you think will help support your investigation into your feature(s) of interest?\n",
    "\n",
    "> -  the start_time column : to extract datetime info from it to calculate age and check for trends in weekdays and months\n",
    "> -  the member_birthyear column : to calculate the age of the members when they made the trip\n",
    "> -  the start_startion_name and end_station_name columns : to form a combination column to explore the most freqeunt routes\n",
    "> -  the user_type column : to check for peformance diffrences between the two user types"
   ]
  },
  {
   "cell_type": "code",
   "execution_count": 7,
   "metadata": {},
   "outputs": [
    {
     "data": {
      "text/html": [
       "<div>\n",
       "<style scoped>\n",
       "    .dataframe tbody tr th:only-of-type {\n",
       "        vertical-align: middle;\n",
       "    }\n",
       "\n",
       "    .dataframe tbody tr th {\n",
       "        vertical-align: top;\n",
       "    }\n",
       "\n",
       "    .dataframe thead th {\n",
       "        text-align: right;\n",
       "    }\n",
       "</style>\n",
       "<table border=\"1\" class=\"dataframe\">\n",
       "  <thead>\n",
       "    <tr style=\"text-align: right;\">\n",
       "      <th></th>\n",
       "      <th>duration_sec</th>\n",
       "      <th>duration_min</th>\n",
       "      <th>start_hour</th>\n",
       "      <th>day_of_week</th>\n",
       "      <th>day_of_month</th>\n",
       "      <th>current_year</th>\n",
       "      <th>start_time</th>\n",
       "      <th>end_time</th>\n",
       "      <th>start_station_id</th>\n",
       "      <th>start_station_name</th>\n",
       "      <th>...</th>\n",
       "      <th>start_station_longitude</th>\n",
       "      <th>end_station_id</th>\n",
       "      <th>end_station_name</th>\n",
       "      <th>end_station_latitude</th>\n",
       "      <th>end_station_longitude</th>\n",
       "      <th>bike_id</th>\n",
       "      <th>user_type</th>\n",
       "      <th>member_birth_year</th>\n",
       "      <th>member_gender</th>\n",
       "      <th>bike_share_for_all_trip</th>\n",
       "    </tr>\n",
       "  </thead>\n",
       "  <tbody>\n",
       "    <tr>\n",
       "      <th>0</th>\n",
       "      <td>52185</td>\n",
       "      <td>869.75</td>\n",
       "      <td>17</td>\n",
       "      <td>Thursday</td>\n",
       "      <td>28</td>\n",
       "      <td>2019</td>\n",
       "      <td>2019-02-28 17:32:10.145</td>\n",
       "      <td>2019-03-01 08:01:55.9750</td>\n",
       "      <td>21.0</td>\n",
       "      <td>Montgomery St BART Station (Market St at 2nd St)</td>\n",
       "      <td>...</td>\n",
       "      <td>-122.400811</td>\n",
       "      <td>13.0</td>\n",
       "      <td>Commercial St at Montgomery St</td>\n",
       "      <td>37.794231</td>\n",
       "      <td>-122.402923</td>\n",
       "      <td>4902</td>\n",
       "      <td>Customer</td>\n",
       "      <td>1984.0</td>\n",
       "      <td>Male</td>\n",
       "      <td>No</td>\n",
       "    </tr>\n",
       "    <tr>\n",
       "      <th>2</th>\n",
       "      <td>61854</td>\n",
       "      <td>1030.90</td>\n",
       "      <td>12</td>\n",
       "      <td>Thursday</td>\n",
       "      <td>28</td>\n",
       "      <td>2019</td>\n",
       "      <td>2019-02-28 12:13:13.218</td>\n",
       "      <td>2019-03-01 05:24:08.1460</td>\n",
       "      <td>86.0</td>\n",
       "      <td>Market St at Dolores St</td>\n",
       "      <td>...</td>\n",
       "      <td>-122.426826</td>\n",
       "      <td>3.0</td>\n",
       "      <td>Powell St BART Station (Market St at 4th St)</td>\n",
       "      <td>37.786375</td>\n",
       "      <td>-122.404904</td>\n",
       "      <td>5905</td>\n",
       "      <td>Customer</td>\n",
       "      <td>1972.0</td>\n",
       "      <td>Male</td>\n",
       "      <td>No</td>\n",
       "    </tr>\n",
       "    <tr>\n",
       "      <th>3</th>\n",
       "      <td>36490</td>\n",
       "      <td>608.17</td>\n",
       "      <td>17</td>\n",
       "      <td>Thursday</td>\n",
       "      <td>28</td>\n",
       "      <td>2019</td>\n",
       "      <td>2019-02-28 17:54:26.010</td>\n",
       "      <td>2019-03-01 04:02:36.8420</td>\n",
       "      <td>375.0</td>\n",
       "      <td>Grove St at Masonic Ave</td>\n",
       "      <td>...</td>\n",
       "      <td>-122.446546</td>\n",
       "      <td>70.0</td>\n",
       "      <td>Central Ave at Fell St</td>\n",
       "      <td>37.773311</td>\n",
       "      <td>-122.444293</td>\n",
       "      <td>6638</td>\n",
       "      <td>Subscriber</td>\n",
       "      <td>1989.0</td>\n",
       "      <td>Other</td>\n",
       "      <td>No</td>\n",
       "    </tr>\n",
       "    <tr>\n",
       "      <th>4</th>\n",
       "      <td>1585</td>\n",
       "      <td>26.42</td>\n",
       "      <td>23</td>\n",
       "      <td>Thursday</td>\n",
       "      <td>28</td>\n",
       "      <td>2019</td>\n",
       "      <td>2019-02-28 23:54:18.549</td>\n",
       "      <td>2019-03-01 00:20:44.0740</td>\n",
       "      <td>7.0</td>\n",
       "      <td>Frank H Ogawa Plaza</td>\n",
       "      <td>...</td>\n",
       "      <td>-122.271738</td>\n",
       "      <td>222.0</td>\n",
       "      <td>10th Ave at E 15th St</td>\n",
       "      <td>37.792714</td>\n",
       "      <td>-122.248780</td>\n",
       "      <td>4898</td>\n",
       "      <td>Subscriber</td>\n",
       "      <td>1974.0</td>\n",
       "      <td>Male</td>\n",
       "      <td>Yes</td>\n",
       "    </tr>\n",
       "    <tr>\n",
       "      <th>5</th>\n",
       "      <td>1793</td>\n",
       "      <td>29.88</td>\n",
       "      <td>23</td>\n",
       "      <td>Thursday</td>\n",
       "      <td>28</td>\n",
       "      <td>2019</td>\n",
       "      <td>2019-02-28 23:49:58.632</td>\n",
       "      <td>2019-03-01 00:19:51.7600</td>\n",
       "      <td>93.0</td>\n",
       "      <td>4th St at Mission Bay Blvd S</td>\n",
       "      <td>...</td>\n",
       "      <td>-122.391198</td>\n",
       "      <td>323.0</td>\n",
       "      <td>Broadway at Kearny</td>\n",
       "      <td>37.798014</td>\n",
       "      <td>-122.405950</td>\n",
       "      <td>5200</td>\n",
       "      <td>Subscriber</td>\n",
       "      <td>1959.0</td>\n",
       "      <td>Male</td>\n",
       "      <td>No</td>\n",
       "    </tr>\n",
       "  </tbody>\n",
       "</table>\n",
       "<p>5 rows × 21 columns</p>\n",
       "</div>"
      ],
      "text/plain": [
       "   duration_sec  duration_min  start_hour day_of_week  day_of_month  \\\n",
       "0         52185        869.75          17    Thursday            28   \n",
       "2         61854       1030.90          12    Thursday            28   \n",
       "3         36490        608.17          17    Thursday            28   \n",
       "4          1585         26.42          23    Thursday            28   \n",
       "5          1793         29.88          23    Thursday            28   \n",
       "\n",
       "   current_year              start_time                  end_time  \\\n",
       "0          2019 2019-02-28 17:32:10.145  2019-03-01 08:01:55.9750   \n",
       "2          2019 2019-02-28 12:13:13.218  2019-03-01 05:24:08.1460   \n",
       "3          2019 2019-02-28 17:54:26.010  2019-03-01 04:02:36.8420   \n",
       "4          2019 2019-02-28 23:54:18.549  2019-03-01 00:20:44.0740   \n",
       "5          2019 2019-02-28 23:49:58.632  2019-03-01 00:19:51.7600   \n",
       "\n",
       "   start_station_id                                start_station_name  ...  \\\n",
       "0              21.0  Montgomery St BART Station (Market St at 2nd St)  ...   \n",
       "2              86.0                           Market St at Dolores St  ...   \n",
       "3             375.0                           Grove St at Masonic Ave  ...   \n",
       "4               7.0                               Frank H Ogawa Plaza  ...   \n",
       "5              93.0                      4th St at Mission Bay Blvd S  ...   \n",
       "\n",
       "   start_station_longitude  end_station_id  \\\n",
       "0              -122.400811            13.0   \n",
       "2              -122.426826             3.0   \n",
       "3              -122.446546            70.0   \n",
       "4              -122.271738           222.0   \n",
       "5              -122.391198           323.0   \n",
       "\n",
       "                               end_station_name end_station_latitude  \\\n",
       "0                Commercial St at Montgomery St            37.794231   \n",
       "2  Powell St BART Station (Market St at 4th St)            37.786375   \n",
       "3                        Central Ave at Fell St            37.773311   \n",
       "4                         10th Ave at E 15th St            37.792714   \n",
       "5                            Broadway at Kearny            37.798014   \n",
       "\n",
       "   end_station_longitude  bike_id   user_type member_birth_year  \\\n",
       "0            -122.402923     4902    Customer            1984.0   \n",
       "2            -122.404904     5905    Customer            1972.0   \n",
       "3            -122.444293     6638  Subscriber            1989.0   \n",
       "4            -122.248780     4898  Subscriber            1974.0   \n",
       "5            -122.405950     5200  Subscriber            1959.0   \n",
       "\n",
       "   member_gender bike_share_for_all_trip  \n",
       "0           Male                      No  \n",
       "2           Male                      No  \n",
       "3          Other                      No  \n",
       "4           Male                     Yes  \n",
       "5           Male                      No  \n",
       "\n",
       "[5 rows x 21 columns]"
      ]
     },
     "execution_count": 7,
     "metadata": {},
     "output_type": "execute_result"
    }
   ],
   "source": [
    "# converting the 'start_time' column to datetime format to extract useful information of interst\n",
    "df['start_time'] = pd.to_datetime(df['start_time'])\n",
    "\n",
    "# exctracting months, days(monthly format), days(weekly format) and start hours\n",
    "df.insert(1, 'current_year' , df['start_time'].dt.year)\n",
    "df.insert(1, 'day_of_month' , df['start_time'].dt.day)\n",
    "df.insert(1, 'day_of_week' , df['start_time'].dt.day_name())\n",
    "df.insert(1, 'start_hour' , df['start_time'].dt.hour)\n",
    "df.insert(1, 'duration_min' , round(df['duration_sec']/60, 2))\n",
    "df.head()"
   ]
  },
  {
   "cell_type": "code",
   "execution_count": 8,
   "metadata": {},
   "outputs": [],
   "source": [
    "# convert the member_birth_year column to int \n",
    "df['member_birth_year'] = df['member_birth_year'].astype(int)"
   ]
  },
  {
   "cell_type": "markdown",
   "metadata": {},
   "source": [
    "**now we will create a column for start and stop stations combinations to use the most common route as a standard for comparing trip stats and start times across different age groups for that route**"
   ]
  },
  {
   "cell_type": "code",
   "execution_count": 9,
   "metadata": {},
   "outputs": [
    {
     "data": {
      "text/html": [
       "<div>\n",
       "<style scoped>\n",
       "    .dataframe tbody tr th:only-of-type {\n",
       "        vertical-align: middle;\n",
       "    }\n",
       "\n",
       "    .dataframe tbody tr th {\n",
       "        vertical-align: top;\n",
       "    }\n",
       "\n",
       "    .dataframe thead th {\n",
       "        text-align: right;\n",
       "    }\n",
       "</style>\n",
       "<table border=\"1\" class=\"dataframe\">\n",
       "  <thead>\n",
       "    <tr style=\"text-align: right;\">\n",
       "      <th></th>\n",
       "      <th>duration_sec</th>\n",
       "      <th>duration_min</th>\n",
       "      <th>start_hour</th>\n",
       "      <th>day_of_week</th>\n",
       "      <th>day_of_month</th>\n",
       "      <th>current_year</th>\n",
       "      <th>start_time</th>\n",
       "      <th>end_time</th>\n",
       "      <th>start_station_id</th>\n",
       "      <th>start_station_name</th>\n",
       "      <th>...</th>\n",
       "      <th>end_station_id</th>\n",
       "      <th>end_station_name</th>\n",
       "      <th>end_station_latitude</th>\n",
       "      <th>end_station_longitude</th>\n",
       "      <th>bike_id</th>\n",
       "      <th>user_type</th>\n",
       "      <th>member_birth_year</th>\n",
       "      <th>member_gender</th>\n",
       "      <th>bike_share_for_all_trip</th>\n",
       "      <th>start_and_stop</th>\n",
       "    </tr>\n",
       "  </thead>\n",
       "  <tbody>\n",
       "    <tr>\n",
       "      <th>0</th>\n",
       "      <td>52185</td>\n",
       "      <td>869.75</td>\n",
       "      <td>17</td>\n",
       "      <td>Thursday</td>\n",
       "      <td>28</td>\n",
       "      <td>2019</td>\n",
       "      <td>2019-02-28 17:32:10.145</td>\n",
       "      <td>2019-03-01 08:01:55.9750</td>\n",
       "      <td>21.0</td>\n",
       "      <td>Montgomery St BART Station (Market St at 2nd St)</td>\n",
       "      <td>...</td>\n",
       "      <td>13.0</td>\n",
       "      <td>Commercial St at Montgomery St</td>\n",
       "      <td>37.794231</td>\n",
       "      <td>-122.402923</td>\n",
       "      <td>4902</td>\n",
       "      <td>Customer</td>\n",
       "      <td>1984</td>\n",
       "      <td>Male</td>\n",
       "      <td>No</td>\n",
       "      <td>Montgomery St BART Station (Market St at 2nd S...</td>\n",
       "    </tr>\n",
       "    <tr>\n",
       "      <th>2</th>\n",
       "      <td>61854</td>\n",
       "      <td>1030.90</td>\n",
       "      <td>12</td>\n",
       "      <td>Thursday</td>\n",
       "      <td>28</td>\n",
       "      <td>2019</td>\n",
       "      <td>2019-02-28 12:13:13.218</td>\n",
       "      <td>2019-03-01 05:24:08.1460</td>\n",
       "      <td>86.0</td>\n",
       "      <td>Market St at Dolores St</td>\n",
       "      <td>...</td>\n",
       "      <td>3.0</td>\n",
       "      <td>Powell St BART Station (Market St at 4th St)</td>\n",
       "      <td>37.786375</td>\n",
       "      <td>-122.404904</td>\n",
       "      <td>5905</td>\n",
       "      <td>Customer</td>\n",
       "      <td>1972</td>\n",
       "      <td>Male</td>\n",
       "      <td>No</td>\n",
       "      <td>Market St at Dolores St to Powell St BART Stat...</td>\n",
       "    </tr>\n",
       "    <tr>\n",
       "      <th>3</th>\n",
       "      <td>36490</td>\n",
       "      <td>608.17</td>\n",
       "      <td>17</td>\n",
       "      <td>Thursday</td>\n",
       "      <td>28</td>\n",
       "      <td>2019</td>\n",
       "      <td>2019-02-28 17:54:26.010</td>\n",
       "      <td>2019-03-01 04:02:36.8420</td>\n",
       "      <td>375.0</td>\n",
       "      <td>Grove St at Masonic Ave</td>\n",
       "      <td>...</td>\n",
       "      <td>70.0</td>\n",
       "      <td>Central Ave at Fell St</td>\n",
       "      <td>37.773311</td>\n",
       "      <td>-122.444293</td>\n",
       "      <td>6638</td>\n",
       "      <td>Subscriber</td>\n",
       "      <td>1989</td>\n",
       "      <td>Other</td>\n",
       "      <td>No</td>\n",
       "      <td>Grove St at Masonic Ave to Central Ave at Fell St</td>\n",
       "    </tr>\n",
       "    <tr>\n",
       "      <th>4</th>\n",
       "      <td>1585</td>\n",
       "      <td>26.42</td>\n",
       "      <td>23</td>\n",
       "      <td>Thursday</td>\n",
       "      <td>28</td>\n",
       "      <td>2019</td>\n",
       "      <td>2019-02-28 23:54:18.549</td>\n",
       "      <td>2019-03-01 00:20:44.0740</td>\n",
       "      <td>7.0</td>\n",
       "      <td>Frank H Ogawa Plaza</td>\n",
       "      <td>...</td>\n",
       "      <td>222.0</td>\n",
       "      <td>10th Ave at E 15th St</td>\n",
       "      <td>37.792714</td>\n",
       "      <td>-122.248780</td>\n",
       "      <td>4898</td>\n",
       "      <td>Subscriber</td>\n",
       "      <td>1974</td>\n",
       "      <td>Male</td>\n",
       "      <td>Yes</td>\n",
       "      <td>Frank H Ogawa Plaza to 10th Ave at E 15th St</td>\n",
       "    </tr>\n",
       "    <tr>\n",
       "      <th>5</th>\n",
       "      <td>1793</td>\n",
       "      <td>29.88</td>\n",
       "      <td>23</td>\n",
       "      <td>Thursday</td>\n",
       "      <td>28</td>\n",
       "      <td>2019</td>\n",
       "      <td>2019-02-28 23:49:58.632</td>\n",
       "      <td>2019-03-01 00:19:51.7600</td>\n",
       "      <td>93.0</td>\n",
       "      <td>4th St at Mission Bay Blvd S</td>\n",
       "      <td>...</td>\n",
       "      <td>323.0</td>\n",
       "      <td>Broadway at Kearny</td>\n",
       "      <td>37.798014</td>\n",
       "      <td>-122.405950</td>\n",
       "      <td>5200</td>\n",
       "      <td>Subscriber</td>\n",
       "      <td>1959</td>\n",
       "      <td>Male</td>\n",
       "      <td>No</td>\n",
       "      <td>4th St at Mission Bay Blvd S to Broadway at Ke...</td>\n",
       "    </tr>\n",
       "    <tr>\n",
       "      <th>6</th>\n",
       "      <td>1147</td>\n",
       "      <td>19.12</td>\n",
       "      <td>23</td>\n",
       "      <td>Thursday</td>\n",
       "      <td>28</td>\n",
       "      <td>2019</td>\n",
       "      <td>2019-02-28 23:55:35.104</td>\n",
       "      <td>2019-03-01 00:14:42.5880</td>\n",
       "      <td>300.0</td>\n",
       "      <td>Palm St at Willow St</td>\n",
       "      <td>...</td>\n",
       "      <td>312.0</td>\n",
       "      <td>San Jose Diridon Station</td>\n",
       "      <td>37.329732</td>\n",
       "      <td>-121.901782</td>\n",
       "      <td>3803</td>\n",
       "      <td>Subscriber</td>\n",
       "      <td>1983</td>\n",
       "      <td>Female</td>\n",
       "      <td>No</td>\n",
       "      <td>Palm St at Willow St to San Jose Diridon Station</td>\n",
       "    </tr>\n",
       "    <tr>\n",
       "      <th>7</th>\n",
       "      <td>1615</td>\n",
       "      <td>26.92</td>\n",
       "      <td>23</td>\n",
       "      <td>Thursday</td>\n",
       "      <td>28</td>\n",
       "      <td>2019</td>\n",
       "      <td>2019-02-28 23:41:06.766</td>\n",
       "      <td>2019-03-01 00:08:02.7560</td>\n",
       "      <td>10.0</td>\n",
       "      <td>Washington St at Kearny St</td>\n",
       "      <td>...</td>\n",
       "      <td>127.0</td>\n",
       "      <td>Valencia St at 21st St</td>\n",
       "      <td>37.756708</td>\n",
       "      <td>-122.421025</td>\n",
       "      <td>6329</td>\n",
       "      <td>Subscriber</td>\n",
       "      <td>1989</td>\n",
       "      <td>Male</td>\n",
       "      <td>No</td>\n",
       "      <td>Washington St at Kearny St to Valencia St at 2...</td>\n",
       "    </tr>\n",
       "    <tr>\n",
       "      <th>8</th>\n",
       "      <td>1570</td>\n",
       "      <td>26.17</td>\n",
       "      <td>23</td>\n",
       "      <td>Thursday</td>\n",
       "      <td>28</td>\n",
       "      <td>2019</td>\n",
       "      <td>2019-02-28 23:41:48.790</td>\n",
       "      <td>2019-03-01 00:07:59.7150</td>\n",
       "      <td>10.0</td>\n",
       "      <td>Washington St at Kearny St</td>\n",
       "      <td>...</td>\n",
       "      <td>127.0</td>\n",
       "      <td>Valencia St at 21st St</td>\n",
       "      <td>37.756708</td>\n",
       "      <td>-122.421025</td>\n",
       "      <td>6548</td>\n",
       "      <td>Subscriber</td>\n",
       "      <td>1988</td>\n",
       "      <td>Other</td>\n",
       "      <td>No</td>\n",
       "      <td>Washington St at Kearny St to Valencia St at 2...</td>\n",
       "    </tr>\n",
       "    <tr>\n",
       "      <th>9</th>\n",
       "      <td>1049</td>\n",
       "      <td>17.48</td>\n",
       "      <td>23</td>\n",
       "      <td>Thursday</td>\n",
       "      <td>28</td>\n",
       "      <td>2019</td>\n",
       "      <td>2019-02-28 23:49:47.699</td>\n",
       "      <td>2019-03-01 00:07:17.0250</td>\n",
       "      <td>19.0</td>\n",
       "      <td>Post St at Kearny St</td>\n",
       "      <td>...</td>\n",
       "      <td>121.0</td>\n",
       "      <td>Mission Playground</td>\n",
       "      <td>37.759210</td>\n",
       "      <td>-122.421339</td>\n",
       "      <td>6488</td>\n",
       "      <td>Subscriber</td>\n",
       "      <td>1992</td>\n",
       "      <td>Male</td>\n",
       "      <td>No</td>\n",
       "      <td>Post St at Kearny St to Mission Playground</td>\n",
       "    </tr>\n",
       "    <tr>\n",
       "      <th>10</th>\n",
       "      <td>458</td>\n",
       "      <td>7.63</td>\n",
       "      <td>23</td>\n",
       "      <td>Thursday</td>\n",
       "      <td>28</td>\n",
       "      <td>2019</td>\n",
       "      <td>2019-02-28 23:57:57.211</td>\n",
       "      <td>2019-03-01 00:05:35.4350</td>\n",
       "      <td>370.0</td>\n",
       "      <td>Jones St at Post St</td>\n",
       "      <td>...</td>\n",
       "      <td>43.0</td>\n",
       "      <td>San Francisco Public Library (Grove St at Hyde...</td>\n",
       "      <td>37.778768</td>\n",
       "      <td>-122.415929</td>\n",
       "      <td>5318</td>\n",
       "      <td>Subscriber</td>\n",
       "      <td>1996</td>\n",
       "      <td>Female</td>\n",
       "      <td>Yes</td>\n",
       "      <td>Jones St at Post St to San Francisco Public Li...</td>\n",
       "    </tr>\n",
       "  </tbody>\n",
       "</table>\n",
       "<p>10 rows × 22 columns</p>\n",
       "</div>"
      ],
      "text/plain": [
       "    duration_sec  duration_min  start_hour day_of_week  day_of_month  \\\n",
       "0          52185        869.75          17    Thursday            28   \n",
       "2          61854       1030.90          12    Thursday            28   \n",
       "3          36490        608.17          17    Thursday            28   \n",
       "4           1585         26.42          23    Thursday            28   \n",
       "5           1793         29.88          23    Thursday            28   \n",
       "6           1147         19.12          23    Thursday            28   \n",
       "7           1615         26.92          23    Thursday            28   \n",
       "8           1570         26.17          23    Thursday            28   \n",
       "9           1049         17.48          23    Thursday            28   \n",
       "10           458          7.63          23    Thursday            28   \n",
       "\n",
       "    current_year              start_time                  end_time  \\\n",
       "0           2019 2019-02-28 17:32:10.145  2019-03-01 08:01:55.9750   \n",
       "2           2019 2019-02-28 12:13:13.218  2019-03-01 05:24:08.1460   \n",
       "3           2019 2019-02-28 17:54:26.010  2019-03-01 04:02:36.8420   \n",
       "4           2019 2019-02-28 23:54:18.549  2019-03-01 00:20:44.0740   \n",
       "5           2019 2019-02-28 23:49:58.632  2019-03-01 00:19:51.7600   \n",
       "6           2019 2019-02-28 23:55:35.104  2019-03-01 00:14:42.5880   \n",
       "7           2019 2019-02-28 23:41:06.766  2019-03-01 00:08:02.7560   \n",
       "8           2019 2019-02-28 23:41:48.790  2019-03-01 00:07:59.7150   \n",
       "9           2019 2019-02-28 23:49:47.699  2019-03-01 00:07:17.0250   \n",
       "10          2019 2019-02-28 23:57:57.211  2019-03-01 00:05:35.4350   \n",
       "\n",
       "    start_station_id                                start_station_name  ...  \\\n",
       "0               21.0  Montgomery St BART Station (Market St at 2nd St)  ...   \n",
       "2               86.0                           Market St at Dolores St  ...   \n",
       "3              375.0                           Grove St at Masonic Ave  ...   \n",
       "4                7.0                               Frank H Ogawa Plaza  ...   \n",
       "5               93.0                      4th St at Mission Bay Blvd S  ...   \n",
       "6              300.0                              Palm St at Willow St  ...   \n",
       "7               10.0                        Washington St at Kearny St  ...   \n",
       "8               10.0                        Washington St at Kearny St  ...   \n",
       "9               19.0                              Post St at Kearny St  ...   \n",
       "10             370.0                               Jones St at Post St  ...   \n",
       "\n",
       "    end_station_id                                   end_station_name  \\\n",
       "0             13.0                     Commercial St at Montgomery St   \n",
       "2              3.0       Powell St BART Station (Market St at 4th St)   \n",
       "3             70.0                             Central Ave at Fell St   \n",
       "4            222.0                              10th Ave at E 15th St   \n",
       "5            323.0                                 Broadway at Kearny   \n",
       "6            312.0                           San Jose Diridon Station   \n",
       "7            127.0                             Valencia St at 21st St   \n",
       "8            127.0                             Valencia St at 21st St   \n",
       "9            121.0                                 Mission Playground   \n",
       "10            43.0  San Francisco Public Library (Grove St at Hyde...   \n",
       "\n",
       "    end_station_latitude end_station_longitude  bike_id   user_type  \\\n",
       "0              37.794231           -122.402923     4902    Customer   \n",
       "2              37.786375           -122.404904     5905    Customer   \n",
       "3              37.773311           -122.444293     6638  Subscriber   \n",
       "4              37.792714           -122.248780     4898  Subscriber   \n",
       "5              37.798014           -122.405950     5200  Subscriber   \n",
       "6              37.329732           -121.901782     3803  Subscriber   \n",
       "7              37.756708           -122.421025     6329  Subscriber   \n",
       "8              37.756708           -122.421025     6548  Subscriber   \n",
       "9              37.759210           -122.421339     6488  Subscriber   \n",
       "10             37.778768           -122.415929     5318  Subscriber   \n",
       "\n",
       "    member_birth_year member_gender  bike_share_for_all_trip  \\\n",
       "0                1984          Male                       No   \n",
       "2                1972          Male                       No   \n",
       "3                1989         Other                       No   \n",
       "4                1974          Male                      Yes   \n",
       "5                1959          Male                       No   \n",
       "6                1983        Female                       No   \n",
       "7                1989          Male                       No   \n",
       "8                1988         Other                       No   \n",
       "9                1992          Male                       No   \n",
       "10               1996        Female                      Yes   \n",
       "\n",
       "                                       start_and_stop  \n",
       "0   Montgomery St BART Station (Market St at 2nd S...  \n",
       "2   Market St at Dolores St to Powell St BART Stat...  \n",
       "3   Grove St at Masonic Ave to Central Ave at Fell St  \n",
       "4        Frank H Ogawa Plaza to 10th Ave at E 15th St  \n",
       "5   4th St at Mission Bay Blvd S to Broadway at Ke...  \n",
       "6    Palm St at Willow St to San Jose Diridon Station  \n",
       "7   Washington St at Kearny St to Valencia St at 2...  \n",
       "8   Washington St at Kearny St to Valencia St at 2...  \n",
       "9          Post St at Kearny St to Mission Playground  \n",
       "10  Jones St at Post St to San Francisco Public Li...  \n",
       "\n",
       "[10 rows x 22 columns]"
      ]
     },
     "execution_count": 9,
     "metadata": {},
     "output_type": "execute_result"
    }
   ],
   "source": [
    "# create a column for start and stop station combinations \n",
    "df['start_and_stop'] = df['start_station_name'] + ' to ' + df['end_station_name']\n",
    "df.head(10)"
   ]
  },
  {
   "cell_type": "code",
   "execution_count": 10,
   "metadata": {},
   "outputs": [
    {
     "data": {
      "text/html": [
       "<div>\n",
       "<style scoped>\n",
       "    .dataframe tbody tr th:only-of-type {\n",
       "        vertical-align: middle;\n",
       "    }\n",
       "\n",
       "    .dataframe tbody tr th {\n",
       "        vertical-align: top;\n",
       "    }\n",
       "\n",
       "    .dataframe thead th {\n",
       "        text-align: right;\n",
       "    }\n",
       "</style>\n",
       "<table border=\"1\" class=\"dataframe\">\n",
       "  <thead>\n",
       "    <tr style=\"text-align: right;\">\n",
       "      <th></th>\n",
       "      <th>duration_sec</th>\n",
       "      <th>duration_min</th>\n",
       "      <th>start_hour</th>\n",
       "      <th>day_of_week</th>\n",
       "      <th>day_of_month</th>\n",
       "      <th>current_year</th>\n",
       "      <th>start_time</th>\n",
       "      <th>end_time</th>\n",
       "      <th>start_station_id</th>\n",
       "      <th>start_station_name</th>\n",
       "      <th>...</th>\n",
       "      <th>end_station_name</th>\n",
       "      <th>end_station_latitude</th>\n",
       "      <th>end_station_longitude</th>\n",
       "      <th>bike_id</th>\n",
       "      <th>user_type</th>\n",
       "      <th>member_birth_year</th>\n",
       "      <th>member_gender</th>\n",
       "      <th>bike_share_for_all_trip</th>\n",
       "      <th>start_and_stop</th>\n",
       "      <th>age</th>\n",
       "    </tr>\n",
       "  </thead>\n",
       "  <tbody>\n",
       "    <tr>\n",
       "      <th>0</th>\n",
       "      <td>52185</td>\n",
       "      <td>869.75</td>\n",
       "      <td>17</td>\n",
       "      <td>Thursday</td>\n",
       "      <td>28</td>\n",
       "      <td>2019</td>\n",
       "      <td>2019-02-28 17:32:10.145</td>\n",
       "      <td>2019-03-01 08:01:55.9750</td>\n",
       "      <td>21.0</td>\n",
       "      <td>Montgomery St BART Station (Market St at 2nd St)</td>\n",
       "      <td>...</td>\n",
       "      <td>Commercial St at Montgomery St</td>\n",
       "      <td>37.794231</td>\n",
       "      <td>-122.402923</td>\n",
       "      <td>4902</td>\n",
       "      <td>Customer</td>\n",
       "      <td>1984</td>\n",
       "      <td>Male</td>\n",
       "      <td>No</td>\n",
       "      <td>Montgomery St BART Station (Market St at 2nd S...</td>\n",
       "      <td>35</td>\n",
       "    </tr>\n",
       "    <tr>\n",
       "      <th>2</th>\n",
       "      <td>61854</td>\n",
       "      <td>1030.90</td>\n",
       "      <td>12</td>\n",
       "      <td>Thursday</td>\n",
       "      <td>28</td>\n",
       "      <td>2019</td>\n",
       "      <td>2019-02-28 12:13:13.218</td>\n",
       "      <td>2019-03-01 05:24:08.1460</td>\n",
       "      <td>86.0</td>\n",
       "      <td>Market St at Dolores St</td>\n",
       "      <td>...</td>\n",
       "      <td>Powell St BART Station (Market St at 4th St)</td>\n",
       "      <td>37.786375</td>\n",
       "      <td>-122.404904</td>\n",
       "      <td>5905</td>\n",
       "      <td>Customer</td>\n",
       "      <td>1972</td>\n",
       "      <td>Male</td>\n",
       "      <td>No</td>\n",
       "      <td>Market St at Dolores St to Powell St BART Stat...</td>\n",
       "      <td>47</td>\n",
       "    </tr>\n",
       "    <tr>\n",
       "      <th>3</th>\n",
       "      <td>36490</td>\n",
       "      <td>608.17</td>\n",
       "      <td>17</td>\n",
       "      <td>Thursday</td>\n",
       "      <td>28</td>\n",
       "      <td>2019</td>\n",
       "      <td>2019-02-28 17:54:26.010</td>\n",
       "      <td>2019-03-01 04:02:36.8420</td>\n",
       "      <td>375.0</td>\n",
       "      <td>Grove St at Masonic Ave</td>\n",
       "      <td>...</td>\n",
       "      <td>Central Ave at Fell St</td>\n",
       "      <td>37.773311</td>\n",
       "      <td>-122.444293</td>\n",
       "      <td>6638</td>\n",
       "      <td>Subscriber</td>\n",
       "      <td>1989</td>\n",
       "      <td>Other</td>\n",
       "      <td>No</td>\n",
       "      <td>Grove St at Masonic Ave to Central Ave at Fell St</td>\n",
       "      <td>30</td>\n",
       "    </tr>\n",
       "    <tr>\n",
       "      <th>4</th>\n",
       "      <td>1585</td>\n",
       "      <td>26.42</td>\n",
       "      <td>23</td>\n",
       "      <td>Thursday</td>\n",
       "      <td>28</td>\n",
       "      <td>2019</td>\n",
       "      <td>2019-02-28 23:54:18.549</td>\n",
       "      <td>2019-03-01 00:20:44.0740</td>\n",
       "      <td>7.0</td>\n",
       "      <td>Frank H Ogawa Plaza</td>\n",
       "      <td>...</td>\n",
       "      <td>10th Ave at E 15th St</td>\n",
       "      <td>37.792714</td>\n",
       "      <td>-122.248780</td>\n",
       "      <td>4898</td>\n",
       "      <td>Subscriber</td>\n",
       "      <td>1974</td>\n",
       "      <td>Male</td>\n",
       "      <td>Yes</td>\n",
       "      <td>Frank H Ogawa Plaza to 10th Ave at E 15th St</td>\n",
       "      <td>45</td>\n",
       "    </tr>\n",
       "    <tr>\n",
       "      <th>5</th>\n",
       "      <td>1793</td>\n",
       "      <td>29.88</td>\n",
       "      <td>23</td>\n",
       "      <td>Thursday</td>\n",
       "      <td>28</td>\n",
       "      <td>2019</td>\n",
       "      <td>2019-02-28 23:49:58.632</td>\n",
       "      <td>2019-03-01 00:19:51.7600</td>\n",
       "      <td>93.0</td>\n",
       "      <td>4th St at Mission Bay Blvd S</td>\n",
       "      <td>...</td>\n",
       "      <td>Broadway at Kearny</td>\n",
       "      <td>37.798014</td>\n",
       "      <td>-122.405950</td>\n",
       "      <td>5200</td>\n",
       "      <td>Subscriber</td>\n",
       "      <td>1959</td>\n",
       "      <td>Male</td>\n",
       "      <td>No</td>\n",
       "      <td>4th St at Mission Bay Blvd S to Broadway at Ke...</td>\n",
       "      <td>60</td>\n",
       "    </tr>\n",
       "  </tbody>\n",
       "</table>\n",
       "<p>5 rows × 23 columns</p>\n",
       "</div>"
      ],
      "text/plain": [
       "   duration_sec  duration_min  start_hour day_of_week  day_of_month  \\\n",
       "0         52185        869.75          17    Thursday            28   \n",
       "2         61854       1030.90          12    Thursday            28   \n",
       "3         36490        608.17          17    Thursday            28   \n",
       "4          1585         26.42          23    Thursday            28   \n",
       "5          1793         29.88          23    Thursday            28   \n",
       "\n",
       "   current_year              start_time                  end_time  \\\n",
       "0          2019 2019-02-28 17:32:10.145  2019-03-01 08:01:55.9750   \n",
       "2          2019 2019-02-28 12:13:13.218  2019-03-01 05:24:08.1460   \n",
       "3          2019 2019-02-28 17:54:26.010  2019-03-01 04:02:36.8420   \n",
       "4          2019 2019-02-28 23:54:18.549  2019-03-01 00:20:44.0740   \n",
       "5          2019 2019-02-28 23:49:58.632  2019-03-01 00:19:51.7600   \n",
       "\n",
       "   start_station_id                                start_station_name  ...  \\\n",
       "0              21.0  Montgomery St BART Station (Market St at 2nd St)  ...   \n",
       "2              86.0                           Market St at Dolores St  ...   \n",
       "3             375.0                           Grove St at Masonic Ave  ...   \n",
       "4               7.0                               Frank H Ogawa Plaza  ...   \n",
       "5              93.0                      4th St at Mission Bay Blvd S  ...   \n",
       "\n",
       "                               end_station_name  end_station_latitude  \\\n",
       "0                Commercial St at Montgomery St             37.794231   \n",
       "2  Powell St BART Station (Market St at 4th St)             37.786375   \n",
       "3                        Central Ave at Fell St             37.773311   \n",
       "4                         10th Ave at E 15th St             37.792714   \n",
       "5                            Broadway at Kearny             37.798014   \n",
       "\n",
       "   end_station_longitude bike_id   user_type  member_birth_year  \\\n",
       "0            -122.402923    4902    Customer               1984   \n",
       "2            -122.404904    5905    Customer               1972   \n",
       "3            -122.444293    6638  Subscriber               1989   \n",
       "4            -122.248780    4898  Subscriber               1974   \n",
       "5            -122.405950    5200  Subscriber               1959   \n",
       "\n",
       "   member_gender bike_share_for_all_trip  \\\n",
       "0           Male                      No   \n",
       "2           Male                      No   \n",
       "3          Other                      No   \n",
       "4           Male                     Yes   \n",
       "5           Male                      No   \n",
       "\n",
       "                                      start_and_stop age  \n",
       "0  Montgomery St BART Station (Market St at 2nd S...  35  \n",
       "2  Market St at Dolores St to Powell St BART Stat...  47  \n",
       "3  Grove St at Masonic Ave to Central Ave at Fell St  30  \n",
       "4       Frank H Ogawa Plaza to 10th Ave at E 15th St  45  \n",
       "5  4th St at Mission Bay Blvd S to Broadway at Ke...  60  \n",
       "\n",
       "[5 rows x 23 columns]"
      ]
     },
     "execution_count": 10,
     "metadata": {},
     "output_type": "execute_result"
    }
   ],
   "source": [
    "# create a column for the calculated age of each member\n",
    "df['age'] = df['current_year'] - df['member_birth_year']\n",
    "df.head()"
   ]
  },
  {
   "cell_type": "markdown",
   "metadata": {},
   "source": [
    "**now we will check the age value counts to remove any insignificant numberd from the comparison and also check for any incorrect outliers**"
   ]
  },
  {
   "cell_type": "code",
   "execution_count": 11,
   "metadata": {},
   "outputs": [
    {
     "data": {
      "text/plain": [
       "(141, 18)"
      ]
     },
     "execution_count": 11,
     "metadata": {},
     "output_type": "execute_result"
    }
   ],
   "source": [
    "# get the maximim and minimum ages\n",
    "df.age.max(), df.age.min()"
   ]
  },
  {
   "cell_type": "markdown",
   "metadata": {},
   "source": [
    "**it appears we have very incorrect outliers on the side of older ages and now we will assess more and remove the incorrect and insignificant -for the purposes of this analysis-  ages because of their value counts**"
   ]
  },
  {
   "cell_type": "code",
   "execution_count": 12,
   "metadata": {},
   "outputs": [
    {
     "data": {
      "text/plain": [
       "72     135\n",
       "74     105\n",
       "88      89\n",
       "119     53\n",
       "71      51\n",
       "76      30\n",
       "77      21\n",
       "86      20\n",
       "73      19\n",
       "80      11\n",
       "117     11\n",
       "78       9\n",
       "118      6\n",
       "81       3\n",
       "99       3\n",
       "85       2\n",
       "75       2\n",
       "89       1\n",
       "91       1\n",
       "92       1\n",
       "109      1\n",
       "141      1\n",
       "Name: age, dtype: int64"
      ]
     },
     "execution_count": 12,
     "metadata": {},
     "output_type": "execute_result"
    }
   ],
   "source": [
    "# check value counts of ages over 70\n",
    "df.query('age > 70').age.value_counts()\n"
   ]
  },
  {
   "cell_type": "code",
   "execution_count": 13,
   "metadata": {},
   "outputs": [
    {
     "data": {
      "text/plain": [
       "19    1675\n",
       "18      34\n",
       "Name: age, dtype: int64"
      ]
     },
     "execution_count": 13,
     "metadata": {},
     "output_type": "execute_result"
    }
   ],
   "source": [
    "# check value counts of ages under 20\n",
    "df.query('age < 20').age.value_counts()"
   ]
  },
  {
   "cell_type": "code",
   "execution_count": 14,
   "metadata": {},
   "outputs": [
    {
     "data": {
      "text/plain": [
       "31    10214\n",
       "26     9323\n",
       "30     8967\n",
       "29     8640\n",
       "28     8484\n",
       "27     8245\n",
       "32     8010\n",
       "33     7953\n",
       "25     7654\n",
       "24     7420\n",
       "34     7023\n",
       "35     6557\n",
       "36     5953\n",
       "39     5011\n",
       "37     4987\n",
       "23     4637\n",
       "38     4344\n",
       "40     3756\n",
       "22     3476\n",
       "21     3208\n",
       "41     2830\n",
       "42     2706\n",
       "45     2633\n",
       "20     2504\n",
       "44     2503\n",
       "43     2435\n",
       "46     2080\n",
       "51     1927\n",
       "48     1924\n",
       "47     1909\n",
       "19     1675\n",
       "49     1590\n",
       "54     1546\n",
       "50     1414\n",
       "52     1315\n",
       "55     1189\n",
       "56     1151\n",
       "53      989\n",
       "57      955\n",
       "58      821\n",
       "62      807\n",
       "59      806\n",
       "60      624\n",
       "61      517\n",
       "63      392\n",
       "65      301\n",
       "67      189\n",
       "68      180\n",
       "69      178\n",
       "66      158\n",
       "72      135\n",
       "64      134\n",
       "74      105\n",
       "70       99\n",
       "71       51\n",
       "18       34\n",
       "73       19\n",
       "Name: age, dtype: int64"
      ]
     },
     "execution_count": 14,
     "metadata": {},
     "output_type": "execute_result"
    }
   ],
   "source": [
    "# drop rows with ages over 74\n",
    "df.drop(df.query('age > 74').index, axis=0, inplace=True)\n",
    "df['age'].value_counts()"
   ]
  },
  {
   "cell_type": "code",
   "execution_count": 15,
   "metadata": {},
   "outputs": [],
   "source": [
    "def age_grouping(age_groups_arr):\n",
    "    \n",
    "    '''\n",
    "    takes in an array of ages (age_groups_arr) to be used as point stops for creating age group columns\n",
    "    parameters : age_groups_array (arr)\n",
    "    returns : ages (arr), edited dataframe\n",
    "    '''\n",
    "    \n",
    "    global ages\n",
    "    n = len(age_groups_arr)-1\n",
    "    ages = age_groups_arr\n",
    "    df['age_group'] = df['age'] * 0\n",
    "    \n",
    "    for i in range (n):  \n",
    "        df['age{}to{}'.format(ages[i], ages[i+1])] = df['age'] * 0\n",
    "        df['age{}to{}'.format(ages[i], ages[i+1])].mask((df['age'] >= ages[i]) & (df['age'] < ages[i+1]), 1, inplace=True)\n",
    "        df['age_group'].mask((df['age'] >= ages[i]) & (df['age'] < ages[i+1]), 'age{}to{}'.format(ages[i], ages[i+1]), inplace=True)\n",
    "    return ages"
   ]
  },
  {
   "cell_type": "code",
   "execution_count": 16,
   "metadata": {},
   "outputs": [
    {
     "data": {
      "text/plain": [
       "[10, 20, 30, 40, 50, 60, 70, 80]"
      ]
     },
     "execution_count": 16,
     "metadata": {},
     "output_type": "execute_result"
    }
   ],
   "source": [
    "age_grouping([10, 20, 30, 40, 50, 60, 70, 80])"
   ]
  },
  {
   "cell_type": "code",
   "execution_count": 17,
   "metadata": {},
   "outputs": [
    {
     "data": {
      "text/html": [
       "<div>\n",
       "<style scoped>\n",
       "    .dataframe tbody tr th:only-of-type {\n",
       "        vertical-align: middle;\n",
       "    }\n",
       "\n",
       "    .dataframe tbody tr th {\n",
       "        vertical-align: top;\n",
       "    }\n",
       "\n",
       "    .dataframe thead th {\n",
       "        text-align: right;\n",
       "    }\n",
       "</style>\n",
       "<table border=\"1\" class=\"dataframe\">\n",
       "  <thead>\n",
       "    <tr style=\"text-align: right;\">\n",
       "      <th></th>\n",
       "      <th>duration_sec</th>\n",
       "      <th>duration_min</th>\n",
       "      <th>start_hour</th>\n",
       "      <th>day_of_week</th>\n",
       "      <th>day_of_month</th>\n",
       "      <th>current_year</th>\n",
       "      <th>start_time</th>\n",
       "      <th>end_time</th>\n",
       "      <th>start_station_id</th>\n",
       "      <th>start_station_name</th>\n",
       "      <th>...</th>\n",
       "      <th>start_and_stop</th>\n",
       "      <th>age</th>\n",
       "      <th>age_group</th>\n",
       "      <th>age10to20</th>\n",
       "      <th>age20to30</th>\n",
       "      <th>age30to40</th>\n",
       "      <th>age40to50</th>\n",
       "      <th>age50to60</th>\n",
       "      <th>age60to70</th>\n",
       "      <th>age70to80</th>\n",
       "    </tr>\n",
       "  </thead>\n",
       "  <tbody>\n",
       "    <tr>\n",
       "      <th>0</th>\n",
       "      <td>52185</td>\n",
       "      <td>869.75</td>\n",
       "      <td>17</td>\n",
       "      <td>Thursday</td>\n",
       "      <td>28</td>\n",
       "      <td>2019</td>\n",
       "      <td>2019-02-28 17:32:10.145</td>\n",
       "      <td>2019-03-01 08:01:55.9750</td>\n",
       "      <td>21.0</td>\n",
       "      <td>Montgomery St BART Station (Market St at 2nd St)</td>\n",
       "      <td>...</td>\n",
       "      <td>Montgomery St BART Station (Market St at 2nd S...</td>\n",
       "      <td>35</td>\n",
       "      <td>age30to40</td>\n",
       "      <td>0</td>\n",
       "      <td>0</td>\n",
       "      <td>1</td>\n",
       "      <td>0</td>\n",
       "      <td>0</td>\n",
       "      <td>0</td>\n",
       "      <td>0</td>\n",
       "    </tr>\n",
       "    <tr>\n",
       "      <th>2</th>\n",
       "      <td>61854</td>\n",
       "      <td>1030.90</td>\n",
       "      <td>12</td>\n",
       "      <td>Thursday</td>\n",
       "      <td>28</td>\n",
       "      <td>2019</td>\n",
       "      <td>2019-02-28 12:13:13.218</td>\n",
       "      <td>2019-03-01 05:24:08.1460</td>\n",
       "      <td>86.0</td>\n",
       "      <td>Market St at Dolores St</td>\n",
       "      <td>...</td>\n",
       "      <td>Market St at Dolores St to Powell St BART Stat...</td>\n",
       "      <td>47</td>\n",
       "      <td>age40to50</td>\n",
       "      <td>0</td>\n",
       "      <td>0</td>\n",
       "      <td>0</td>\n",
       "      <td>1</td>\n",
       "      <td>0</td>\n",
       "      <td>0</td>\n",
       "      <td>0</td>\n",
       "    </tr>\n",
       "    <tr>\n",
       "      <th>3</th>\n",
       "      <td>36490</td>\n",
       "      <td>608.17</td>\n",
       "      <td>17</td>\n",
       "      <td>Thursday</td>\n",
       "      <td>28</td>\n",
       "      <td>2019</td>\n",
       "      <td>2019-02-28 17:54:26.010</td>\n",
       "      <td>2019-03-01 04:02:36.8420</td>\n",
       "      <td>375.0</td>\n",
       "      <td>Grove St at Masonic Ave</td>\n",
       "      <td>...</td>\n",
       "      <td>Grove St at Masonic Ave to Central Ave at Fell St</td>\n",
       "      <td>30</td>\n",
       "      <td>age30to40</td>\n",
       "      <td>0</td>\n",
       "      <td>0</td>\n",
       "      <td>1</td>\n",
       "      <td>0</td>\n",
       "      <td>0</td>\n",
       "      <td>0</td>\n",
       "      <td>0</td>\n",
       "    </tr>\n",
       "    <tr>\n",
       "      <th>4</th>\n",
       "      <td>1585</td>\n",
       "      <td>26.42</td>\n",
       "      <td>23</td>\n",
       "      <td>Thursday</td>\n",
       "      <td>28</td>\n",
       "      <td>2019</td>\n",
       "      <td>2019-02-28 23:54:18.549</td>\n",
       "      <td>2019-03-01 00:20:44.0740</td>\n",
       "      <td>7.0</td>\n",
       "      <td>Frank H Ogawa Plaza</td>\n",
       "      <td>...</td>\n",
       "      <td>Frank H Ogawa Plaza to 10th Ave at E 15th St</td>\n",
       "      <td>45</td>\n",
       "      <td>age40to50</td>\n",
       "      <td>0</td>\n",
       "      <td>0</td>\n",
       "      <td>0</td>\n",
       "      <td>1</td>\n",
       "      <td>0</td>\n",
       "      <td>0</td>\n",
       "      <td>0</td>\n",
       "    </tr>\n",
       "    <tr>\n",
       "      <th>5</th>\n",
       "      <td>1793</td>\n",
       "      <td>29.88</td>\n",
       "      <td>23</td>\n",
       "      <td>Thursday</td>\n",
       "      <td>28</td>\n",
       "      <td>2019</td>\n",
       "      <td>2019-02-28 23:49:58.632</td>\n",
       "      <td>2019-03-01 00:19:51.7600</td>\n",
       "      <td>93.0</td>\n",
       "      <td>4th St at Mission Bay Blvd S</td>\n",
       "      <td>...</td>\n",
       "      <td>4th St at Mission Bay Blvd S to Broadway at Ke...</td>\n",
       "      <td>60</td>\n",
       "      <td>age60to70</td>\n",
       "      <td>0</td>\n",
       "      <td>0</td>\n",
       "      <td>0</td>\n",
       "      <td>0</td>\n",
       "      <td>0</td>\n",
       "      <td>1</td>\n",
       "      <td>0</td>\n",
       "    </tr>\n",
       "  </tbody>\n",
       "</table>\n",
       "<p>5 rows × 31 columns</p>\n",
       "</div>"
      ],
      "text/plain": [
       "   duration_sec  duration_min  start_hour day_of_week  day_of_month  \\\n",
       "0         52185        869.75          17    Thursday            28   \n",
       "2         61854       1030.90          12    Thursday            28   \n",
       "3         36490        608.17          17    Thursday            28   \n",
       "4          1585         26.42          23    Thursday            28   \n",
       "5          1793         29.88          23    Thursday            28   \n",
       "\n",
       "   current_year              start_time                  end_time  \\\n",
       "0          2019 2019-02-28 17:32:10.145  2019-03-01 08:01:55.9750   \n",
       "2          2019 2019-02-28 12:13:13.218  2019-03-01 05:24:08.1460   \n",
       "3          2019 2019-02-28 17:54:26.010  2019-03-01 04:02:36.8420   \n",
       "4          2019 2019-02-28 23:54:18.549  2019-03-01 00:20:44.0740   \n",
       "5          2019 2019-02-28 23:49:58.632  2019-03-01 00:19:51.7600   \n",
       "\n",
       "   start_station_id                                start_station_name  ...  \\\n",
       "0              21.0  Montgomery St BART Station (Market St at 2nd St)  ...   \n",
       "2              86.0                           Market St at Dolores St  ...   \n",
       "3             375.0                           Grove St at Masonic Ave  ...   \n",
       "4               7.0                               Frank H Ogawa Plaza  ...   \n",
       "5              93.0                      4th St at Mission Bay Blvd S  ...   \n",
       "\n",
       "                                      start_and_stop  age  age_group  \\\n",
       "0  Montgomery St BART Station (Market St at 2nd S...   35  age30to40   \n",
       "2  Market St at Dolores St to Powell St BART Stat...   47  age40to50   \n",
       "3  Grove St at Masonic Ave to Central Ave at Fell St   30  age30to40   \n",
       "4       Frank H Ogawa Plaza to 10th Ave at E 15th St   45  age40to50   \n",
       "5  4th St at Mission Bay Blvd S to Broadway at Ke...   60  age60to70   \n",
       "\n",
       "  age10to20  age20to30  age30to40  age40to50 age50to60  age60to70 age70to80  \n",
       "0         0          0          1          0         0          0         0  \n",
       "2         0          0          0          1         0          0         0  \n",
       "3         0          0          1          0         0          0         0  \n",
       "4         0          0          0          1         0          0         0  \n",
       "5         0          0          0          0         0          1         0  \n",
       "\n",
       "[5 rows x 31 columns]"
      ]
     },
     "execution_count": 17,
     "metadata": {},
     "output_type": "execute_result"
    }
   ],
   "source": [
    "# check the results\n",
    "df.head()"
   ]
  },
  {
   "cell_type": "markdown",
   "metadata": {},
   "source": [
    "## Univariate Exploration"
   ]
  },
  {
   "cell_type": "markdown",
   "metadata": {},
   "source": [
    "**now we will look into some basic questions like:**\n",
    "  - what are the proportions of user gender types?\n",
    "  - what are the proportions of subscribed users and customer users?\n",
    "  - what days are most of the trips made during the week?\n",
    "  "
   ]
  },
  {
   "cell_type": "code",
   "execution_count": 18,
   "metadata": {},
   "outputs": [
    {
     "data": {
      "image/png": "[encoded data removed]",
      "text/plain": [
       "<Figure size 432x288 with 1 Axes>"
      ]
     },
     "metadata": {},
     "output_type": "display_data"
    }
   ],
   "source": [
    "plt.pie(df['user_type'].value_counts(), labels =df['user_type'].value_counts().index, autopct='%1.1f%%');\n",
    "plt.title('user type proportions');"
   ]
  },
  {
   "cell_type": "code",
   "execution_count": 19,
   "metadata": {},
   "outputs": [
    {
     "data": {
      "image/png": "[encoded data removed]",
      "text/plain": [
       "<Figure size 432x288 with 1 Axes>"
      ]
     },
     "metadata": {},
     "output_type": "display_data"
    }
   ],
   "source": [
    "plt.pie(df['member_gender'].value_counts(), labels =df['member_gender'].value_counts().index, autopct='%1.1f%%');\n",
    "plt.title('member gendere proportions');"
   ]
  },
  {
   "cell_type": "code",
   "execution_count": 20,
   "metadata": {},
   "outputs": [
    {
     "data": {
      "image/png": "[encoded data removed]",
      "text/plain": [
       "<Figure size 504x432 with 1 Axes>"
      ]
     },
     "metadata": {
      "needs_background": "light"
     },
     "output_type": "display_data"
    }
   ],
   "source": [
    "plt.figure(figsize=(7,6))\n",
    "day_freq_order = df['day_of_week'].value_counts().index\n",
    "sb.countplot(data = df, x = 'day_of_week', color = sb.color_palette()[0], order = day_freq_order);"
   ]
  },
  {
   "cell_type": "markdown",
   "metadata": {},
   "source": [
    "**it seems that most of the trips made are in the middle of the week which may bring up a question to be further assesed, is it because the trips made in the middle of the week are usually commute and the ones made on saturday and sunday -weekend- are mostly for fun or personal matters other than work?**\n",
    "\n",
    "one way we may asses this is by looking at the duration of the trips for each age group across the weekdays later in the multivariate exploration, if it is the case that trips are for fun  on weekends we should expect to see an increase in trip durations in weeksends later on"
   ]
  },
  {
   "cell_type": "markdown",
   "metadata": {},
   "source": [
    "**now we will look if this is a trend in the entire month of just influnced by a certain week**"
   ]
  },
  {
   "cell_type": "code",
   "execution_count": 21,
   "metadata": {},
   "outputs": [
    {
     "data": {
      "image/png": "[encoded data removed]",
      "text/plain": [
       "<Figure size 432x288 with 1 Axes>"
      ]
     },
     "metadata": {
      "needs_background": "light"
     },
     "output_type": "display_data"
    }
   ],
   "source": [
    "bins = np.arange(30)\n",
    "plt.hist(data = df, x='day_of_month', bins = bins);\n",
    "plt.xlim([0,30]);\n",
    "plt.xlabel('day of month');\n",
    "plt.ylabel('trip count');"
   ]
  },
  {
   "cell_type": "markdown",
   "metadata": {},
   "source": [
    "**looking at the repeated peaks, it appears to be a valid trend in all weeks**"
   ]
  },
  {
   "cell_type": "markdown",
   "metadata": {},
   "source": [
    "**now let's look at the distribution of trip durations**"
   ]
  },
  {
   "cell_type": "code",
   "execution_count": 22,
   "metadata": {},
   "outputs": [
    {
     "data": {
      "image/png": "[encoded data removed]",
      "text/plain": [
       "<Figure size 864x576 with 1 Axes>"
      ]
     },
     "metadata": {
      "needs_background": "light"
     },
     "output_type": "display_data"
    }
   ],
   "source": [
    "plt.figure(figsize = (12,8))\n",
    "bins = np.arange(60)\n",
    "plt.hist(data = df, x='duration_min', bins = bins);\n",
    "plt.xlim([0, 60]);\n",
    "plt.xlabel('trip duration in minutes');\n",
    "plt.ylabel('count of trips made');"
   ]
  },
  {
   "cell_type": "markdown",
   "metadata": {},
   "source": [
    "**trip counts seem to be rise then decrasing as the trips get longer with the peak around 7 mins**"
   ]
  },
  {
   "cell_type": "markdown",
   "metadata": {},
   "source": [
    "**now lets explore the distribution of trips made across age**"
   ]
  },
  {
   "cell_type": "code",
   "execution_count": 23,
   "metadata": {},
   "outputs": [
    {
     "data": {
      "image/png": "[encoded data removed]",
      "text/plain": [
       "<Figure size 432x288 with 1 Axes>"
      ]
     },
     "metadata": {
      "needs_background": "light"
     },
     "output_type": "display_data"
    }
   ],
   "source": [
    "plt.hist(df.age, bins = 25);\n",
    "plt.title(\"trips age distripution\");\n",
    "plt.xlabel(\"age\");\n",
    "plt.ylabel(\"number of trips\");"
   ]
  },
  {
   "cell_type": "code",
   "execution_count": 24,
   "metadata": {},
   "outputs": [
    {
     "name": "stderr",
     "output_type": "stream",
     "text": [
      "C:\\Users\\test\\anaconda3\\lib\\site-packages\\seaborn\\distributions.py:2557: FutureWarning: `distplot` is a deprecated function and will be removed in a future version. Please adapt your code to use either `displot` (a figure-level function with similar flexibility) or `histplot` (an axes-level function for histograms).\n",
      "  warnings.warn(msg, FutureWarning)\n"
     ]
    },
    {
     "data": {
      "image/png": "[encoded data removed]",
      "text/plain": [
       "<Figure size 432x288 with 1 Axes>"
      ]
     },
     "metadata": {
      "needs_background": "light"
     },
     "output_type": "display_data"
    }
   ],
   "source": [
    "sb.distplot(df.age);\n",
    "plt.title(\"trips age distripution\");"
   ]
  },
  {
   "cell_type": "markdown",
   "metadata": {},
   "source": [
    "**it seems that the number of trips made peaks around age 30**"
   ]
  },
  {
   "cell_type": "markdown",
   "metadata": {},
   "source": [
    "**now lets start looking at the main question of interest which is what are the diffrences between different age groups in multiple variables**\n",
    "\n",
    "**lets start by looking at the proportions of trips made by each age group**"
   ]
  },
  {
   "cell_type": "code",
   "execution_count": 25,
   "metadata": {},
   "outputs": [
    {
     "data": {
      "image/png": "[encoded data removed]",
      "text/plain": [
       "<Figure size 576x360 with 1 Axes>"
      ]
     },
     "metadata": {
      "needs_background": "light"
     },
     "output_type": "display_data"
    }
   ],
   "source": [
    "age_groups = df.columns.tolist()[24:]\n",
    "age_amounts = []\n",
    "age_props = []\n",
    "\n",
    "for i in range (len(ages)-1):\n",
    "    age_amounts.append(df['age{}to{}'.format(ages[i], ages[i+1])].sum())\n",
    "    age_props.append(round(df['age{}to{}'.format(ages[i], ages[i+1])].sum() / df.shape[0], 4))\n",
    "\n",
    "plt.figure(figsize = (8,5))\n",
    "plt.bar(data = df, x=age_groups, height = age_amounts);\n",
    "plt.xticks(rotation = 15);\n",
    "plt.title(\"amount of bike trips in each age group\")\n",
    "plt.xlabel(\"age groups\")\n",
    "plt.ylabel(\"number of trips\")\n",
    "\n",
    "for i in range(len(age_groups)):\n",
    "    plt.text(i, age_amounts[i]+150, '{}%'.format(round(age_props[i]*100, 2)), ha = 'center')\n"
   ]
  },
  {
   "cell_type": "markdown",
   "metadata": {},
   "source": [
    "### Discuss the distribution(s) of your variable(s) of interest. Were there any unusual points? Did you need to perform any transformations?\n",
    "\n",
    "> there was an unusual and according to validation in  the time of doing this analysis -11/2021- incorrect maximum age, ages went to 141 years in the dataframe and the oldest verified human alive as of this month is 122 years old \n",
    "\n",
    "### Of the features you investigated, were there any unusual distributions? Did you perform any operations on the data to tidy, adjust, or change the form of the data? If so, why did you do this?\n",
    "\n",
    "> the ditribution was logical across age groups with the amount of trips decreasing as the age group goes older starting from 20 years, but it was unexpected to see less  recorded trips under 20 years than trips made by people from 60 to 70\n",
    "\n",
    "> I removed some of the unlikley ages and the unreliable counts for ages more than 70, and i choose 74 to be the maximum age of significant trip counts, and i removed it to have more reliable data if the occaion arises to look at metrics in the specific 70 to 80 group\n"
   ]
  },
  {
   "cell_type": "markdown",
   "metadata": {},
   "source": [
    "## Bivariate Exploration"
   ]
  },
  {
   "cell_type": "markdown",
   "metadata": {},
   "source": [
    "**now we will look art the amount of trips made by different genders across age groups and look at the proportions for the most significant groups**"
   ]
  },
  {
   "cell_type": "code",
   "execution_count": 26,
   "metadata": {},
   "outputs": [
    {
     "data": {
      "image/png": "[encoded data removed]",
      "text/plain": [
       "<Figure size 648x432 with 1 Axes>"
      ]
     },
     "metadata": {
      "needs_background": "light"
     },
     "output_type": "display_data"
    }
   ],
   "source": [
    "age_amounts_males = []\n",
    "age_amounts_females = []\n",
    "age_amounts_other = []\n",
    "age_props_males = []\n",
    "age_props_females = []\n",
    "age_props_other = []\n",
    "for i in range (len(ages)-1):\n",
    "    age_amounts_males.append(df.query('member_gender == \"Male\"')['age{}to{}'.format(ages[i], ages[i+1])].sum())\n",
    "    age_amounts_females.append(df.query('member_gender == \"Female\"')['age{}to{}'.format(ages[i], ages[i+1])].sum())\n",
    "    age_amounts_other.append(df.query('member_gender == \"Other\"')['age{}to{}'.format(ages[i], ages[i+1])].sum())\n",
    "    age_props_males.append(round(df.query('member_gender == \"Male\"')['age{}to{}'.format(ages[i], ages[i+1])].sum() / df.shape[0], 4))\n",
    "    age_props_females.append(round(df.query('member_gender == \"Female\"')['age{}to{}'.format(ages[i], ages[i+1])].sum() / df.shape[0], 4))\n",
    "    age_props_other.append(round(df.query('member_gender == \"Other\"')['age{}to{}'.format(ages[i], ages[i+1])].sum() / df.shape[0], 4))\n",
    "plt.figure(figsize = (9,6))\n",
    "X_axis = np.arange(len(age_groups))\n",
    "plt.bar( data = df, x= age_groups , height = age_amounts_males, width = 0.4, label = 'males');\n",
    "plt.bar( data = df, x= age_groups , height = age_amounts_females, width = 0.4, label = 'females');\n",
    "plt.bar( data = df, x= age_groups , height = age_amounts_other, width = 0.4, label = 'other');\n",
    "plt.xticks(rotation = 0);\n",
    "plt.title(\"amount of bike trips in each age group\")\n",
    "plt.xlabel(\"age groups\")\n",
    "plt.ylabel(\"number of trips\")\n",
    "for i in range(1, len(age_groups)-2):\n",
    "    plt.text(i, age_amounts_males[i]+200, '{}%'.format(round(age_props_males[i]*100, 2)), ha = 'center')\n",
    "    plt.text(i, age_amounts_females[i]+200, '{}%'.format(round(age_props_females[i]*100, 2)), ha = 'right')\n",
    "    plt.text(i, age_amounts_other[i]+200, '{}%'.format(round(age_props_other[i]*100, 2)), ha = 'right')\n",
    "plt.legend()\n",
    "plt.show()\n"
   ]
  },
  {
   "cell_type": "markdown",
   "metadata": {},
   "source": [
    "**now we will look at trip duration across age groups**"
   ]
  },
  {
   "cell_type": "code",
   "execution_count": 27,
   "metadata": {},
   "outputs": [
    {
     "data": {
      "image/png": "[encoded data removed]",
      "text/plain": [
       "<Figure size 720x432 with 1 Axes>"
      ]
     },
     "metadata": {
      "needs_background": "light"
     },
     "output_type": "display_data"
    }
   ],
   "source": [
    "age_order = ['age10to20', 'age20to30', 'age30to40', 'age40to50', 'age50to60', 'age60to70', 'age70to80']\n",
    "plt.figure(figsize = (10,6))\n",
    "sb.barplot(x = 'duration_min', y='age_group' , data = df, color = sb.color_palette()[0], order = age_order);"
   ]
  },
  {
   "cell_type": "markdown",
   "metadata": {},
   "source": [
    "**it appears that ages under 20 spend more time on their trips, that may have to do with the thoery of commute vs fun purposes  mentioned eariler**\n",
    "\n",
    "it also appears the generally the trip duration increases slightly for each age group after the big decrease after the under 20 group, also it increases more signfifcantly again for ages more than 60 and that may again have to do with work commute vs other purposes thoery since that is the popular age of retirement"
   ]
  },
  {
   "cell_type": "markdown",
   "metadata": {},
   "source": [
    "**now lets look at the trip durations for the most common station combination**"
   ]
  },
  {
   "cell_type": "code",
   "execution_count": 28,
   "metadata": {},
   "outputs": [
    {
     "data": {
      "text/plain": [
       "Berry St at 4th St to San Francisco Ferry Building (Harry Bridges Plaza)               327\n",
       "Grand Ave at Perkins St to 19th Street BART Station                                    307\n",
       "San Francisco Ferry Building (Harry Bridges Plaza) to The Embarcadero at Sansome St    286\n",
       "The Embarcadero at Sansome St to Steuart St at Market St                               282\n",
       "19th Street BART Station to Grand Ave at Perkins St                                    281\n",
       "                                                                                      ... \n",
       "San Francisco City Hall (Polk St at Grove St) to The Embarcadero at Vallejo St           1\n",
       "Broadway at Kearny to Valencia St at 21st St                                             1\n",
       "Virginia St at Shattuck Ave to 65th St at Hollis St                                      1\n",
       "Backesto Park (Jackson St at 13th St) to San Pedro Square                                1\n",
       "Webster St at O'Farrell St to Division St at Potrero Ave                                 1\n",
       "Name: start_and_stop, Length: 23292, dtype: int64"
      ]
     },
     "execution_count": 28,
     "metadata": {},
     "output_type": "execute_result"
    }
   ],
   "source": [
    "# get the most frequent station\n",
    "df['start_and_stop'].value_counts()"
   ]
  },
  {
   "cell_type": "code",
   "execution_count": 29,
   "metadata": {},
   "outputs": [
    {
     "data": {
      "image/png": "[encoded data removed]",
      "text/plain": [
       "<Figure size 720x504 with 1 Axes>"
      ]
     },
     "metadata": {
      "needs_background": "light"
     },
     "output_type": "display_data"
    }
   ],
   "source": [
    "# filter by the most frequent station\n",
    "df_freq_station = df.query('start_and_stop == \"Berry St at 4th St to San Francisco Ferry Building (Harry Bridges Plaza)\"')\n",
    "plt.figure(figsize = (10,7))\n",
    "sb.barplot(x = 'age_group', y = 'duration_min', data = df_freq_station, color = sb.color_palette()[0], order = age_order );"
   ]
  },
  {
   "cell_type": "markdown",
   "metadata": {},
   "source": [
    "**the findings support the earlier ones for ages under 20 and between 60 and 70 but suprisingly there is a significant increase of trip durations for this station for ages between 50 and 60**"
   ]
  },
  {
   "cell_type": "markdown",
   "metadata": {},
   "source": [
    "### Talk about some of the relationships you observed in this part of the investigation. How did the feature(s) of interest vary with other features in the dataset?\n",
    "\n",
    "> there seems to be a relationship between possible ages of workless time (10 to 20, 50 to 60) and trip duration and that may be due to the nature of the trip of ages over 20 and under 60 which may be more related to work commute or stressed by the lack of free time to waste on the way because of work and other responsibilities\n",
    "\n",
    "### Did you observe any interesting relationships between the other features (not the main feature(s) of interest)?\n",
    "\n",
    "> for this analysis there seems to be no interesting relations observed away from the main features of interest"
   ]
  },
  {
   "cell_type": "markdown",
   "metadata": {},
   "source": [
    "## Multivariate Exploration"
   ]
  },
  {
   "cell_type": "markdown",
   "metadata": {},
   "source": [
    "**lets look at the relationship between age and trip duration across user types and genders**"
   ]
  },
  {
   "cell_type": "code",
   "execution_count": 30,
   "metadata": {},
   "outputs": [
    {
     "data": {
      "image/png": "[encoded data removed]",
      "text/plain": [
       "<Figure size 864x576 with 6 Axes>"
      ]
     },
     "metadata": {
      "needs_background": "light"
     },
     "output_type": "display_data"
    }
   ],
   "source": [
    "g = sb.FacetGrid(data = df, col = 'member_gender', row = 'user_type', height = 4, margin_titles = True)\n",
    "g.map(plt.scatter, 'age', 'duration_sec');"
   ]
  },
  {
   "cell_type": "markdown",
   "metadata": {},
   "source": [
    "**it appears that subscriber users generally make more longer trips than customer users across genders, and generally for across genders and user types longer duration trips frequency starts to decrease after 50** "
   ]
  },
  {
   "cell_type": "code",
   "execution_count": 31,
   "metadata": {},
   "outputs": [
    {
     "data": {
      "image/png": "[encoded data removed]",
      "text/plain": [
       "<Figure size 1440x504 with 1 Axes>"
      ]
     },
     "metadata": {
      "needs_background": "light"
     },
     "output_type": "display_data"
    }
   ],
   "source": [
    "plt.figure(figsize = (20,7))\n",
    "sb.barplot(x = 'age_group', y = 'duration_min', hue = 'day_of_week', data = df, order = age_order);"
   ]
  },
  {
   "cell_type": "markdown",
   "metadata": {},
   "source": [
    "**the trip duration on week end days significantly increases for ages under 20 and is generally longer in weekend days which enforces the theory of the effect of free time and the nature of the trip on the duration, commute trips are more frequent while potentially other purposed trips are longer in duration**"
   ]
  },
  {
   "cell_type": "markdown",
   "metadata": {},
   "source": [
    "### Talk about some of the relationships you observed in this part of the investigation. Were there features that strengthened each other in terms of looking at your feature(s) of interest?\n",
    "\n",
    "> there seems to be an in increase trip duration for ages that mostly have more free time especially across weekends and especially for ages under 20\n",
    "\n",
    "### Were there any interesting or surprising interactions between features?\n",
    "\n",
    "> there is an interesting variability or range of trip durations for ages under 20 and over 60 as indicated by the lines in  the bar plots which may have to do with the presence of choice for these ages unlike the more focused and bounded by commute purposes or bounded by busy time ages which are between 20 and 30"
   ]
  },
  {
   "cell_type": "markdown",
   "metadata": {},
   "source": [
    "### the final report for the main question and features of interest which form the question about significant diffrences in trip stats is that there seems to be a clear presence of the effect of the logical amounts of free time each group has and the variability in the trip durations as well as a very clear difference towards longer trip duration for ages under 20 especially in weekends."
   ]
  }
 ],
 "metadata": {
  "kernelspec": {
   "display_name": "Python 3",
   "language": "python",
   "name": "python3"
  },
  "language_info": {
   "codemirror_mode": {
    "name": "ipython",
    "version": 3
   },
   "file_extension": ".py",
   "mimetype": "text/x-python",
   "name": "python",
   "nbconvert_exporter": "python",
   "pygments_lexer": "ipython3",
   "version": "3.8.8"
  }
 },
 "nbformat": 4,
 "nbformat_minor": 2
}
